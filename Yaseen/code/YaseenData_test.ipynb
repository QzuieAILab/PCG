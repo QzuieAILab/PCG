{
 "cells": [
  {
   "cell_type": "code",
   "execution_count": 1,
   "id": "5fde8c51-ae1a-4177-8a39-c16f58c1437c",
   "metadata": {},
   "outputs": [],
   "source": [
    "import func.Yaseen_model"
   ]
  },
  {
   "cell_type": "code",
   "execution_count": 1,
   "id": "fb69993e-b773-464a-8858-3dd09050009a",
   "metadata": {},
   "outputs": [],
   "source": [
    "from func.Yaseen_model_1 import CombinedModel\n",
    "import torch\n",
    "device= torch.device('cuda:0' if torch.cuda.is_available() else 'cpu')"
   ]
  },
  {
   "cell_type": "code",
   "execution_count": null,
   "id": "89bc36cd-9fb3-44cc-928a-c72c9469e6c3",
   "metadata": {
    "scrolled": true
   },
   "outputs": [
    {
     "name": "stderr",
     "output_type": "stream",
     "text": [
      "/tmp/ipykernel_2783479/2880902566.py:2: FutureWarning: You are using `torch.load` with `weights_only=False` (the current default value), which uses the default pickle module implicitly. It is possible to construct malicious pickle data which will execute arbitrary code during unpickling (See https://github.com/pytorch/pytorch/blob/main/SECURITY.md#untrusted-models for more details). In a future release, the default value for `weights_only` will be flipped to `True`. This limits the functions that could be executed during unpickling. Arbitrary objects will no longer be allowed to be loaded via this mode unless they are explicitly allowlisted by the user via `torch.serialization.add_safe_globals`. We recommend you start setting `weights_only=True` for any use case where you don't have full control of the loaded file. Please open an issue on GitHub for any issues related to this experimental feature.\n",
      "  model.load_state_dict(torch.load('model/data_3/train4_pytorch-3-data0.8-0-5-7.pth'))\n"
     ]
    },
    {
     "data": {
      "text/plain": [
       "CombinedModel(\n",
       "  (cnn_model_1): CNNModel_1(\n",
       "    (conv1): Sequential(\n",
       "      (0): Conv2d(1, 16, kernel_size=(3, 3), stride=(1, 1), padding=(1, 1))\n",
       "      (1): ReLU()\n",
       "      (2): MaxPool2d(kernel_size=2, stride=2, padding=0, dilation=1, ceil_mode=False)\n",
       "      (3): Dropout(p=0.2, inplace=False)\n",
       "    )\n",
       "    (conv2): Sequential(\n",
       "      (0): Conv2d(16, 32, kernel_size=(3, 3), stride=(1, 1), padding=(1, 1))\n",
       "      (1): BatchNorm2d(32, eps=1e-05, momentum=0.1, affine=True, track_running_stats=True)\n",
       "      (2): ReLU()\n",
       "      (3): MaxPool2d(kernel_size=2, stride=2, padding=0, dilation=1, ceil_mode=False)\n",
       "    )\n",
       "    (conv3): Sequential(\n",
       "      (0): Conv2d(32, 64, kernel_size=(3, 3), stride=(1, 1), padding=(1, 1))\n",
       "      (1): ReLU()\n",
       "      (2): MaxPool2d(kernel_size=2, stride=2, padding=0, dilation=1, ceil_mode=False)\n",
       "      (3): Dropout(p=0.2, inplace=False)\n",
       "    )\n",
       "  )\n",
       "  (cnn_model_2): CNNModel_2(\n",
       "    (conv5): Conv2d(64, 64, kernel_size=(5, 5), stride=(1, 1), padding=(2, 2))\n",
       "    (bn5): BatchNorm2d(64, eps=1e-05, momentum=0.1, affine=True, track_running_stats=True)\n",
       "    (conv1): Conv2d(64, 32, kernel_size=(3, 3), stride=(1, 1), padding=(1, 1))\n",
       "    (bn1): BatchNorm2d(32, eps=1e-05, momentum=0.1, affine=True, track_running_stats=True)\n",
       "    (conv2): Conv2d(32, 16, kernel_size=(3, 3), stride=(1, 1), padding=(1, 1))\n",
       "    (bn2): BatchNorm2d(16, eps=1e-05, momentum=0.1, affine=True, track_running_stats=True)\n",
       "    (conv3): Conv2d(16, 8, kernel_size=(3, 3), stride=(1, 1), padding=(1, 1))\n",
       "    (bn3): BatchNorm2d(8, eps=1e-05, momentum=0.1, affine=True, track_running_stats=True)\n",
       "    (conv4): Conv2d(8, 16, kernel_size=(3, 3), stride=(1, 1), padding=(1, 1))\n",
       "    (bn4): BatchNorm2d(16, eps=1e-05, momentum=0.1, affine=True, track_running_stats=True)\n",
       "    (pool): MaxPool2d(kernel_size=2, stride=2, padding=0, dilation=1, ceil_mode=False)\n",
       "    (flatten): Flatten(start_dim=1, end_dim=-1)\n",
       "  )\n",
       "  (cov_pool): Sequential(\n",
       "    (0): Conv2d(64, 16, kernel_size=(1, 1), stride=(2, 2))\n",
       "    (1): MaxPool2d(kernel_size=2, stride=2, padding=0, dilation=1, ceil_mode=False)\n",
       "    (2): Conv2d(16, 16, kernel_size=(1, 1), stride=(2, 2))\n",
       "    (3): MaxPool2d(kernel_size=2, stride=2, padding=0, dilation=1, ceil_mode=False)\n",
       "  )\n",
       "  (flatten): Flatten(start_dim=1, end_dim=-1)\n",
       "  (fc): Sequential(\n",
       "    (0): Flatten(start_dim=1, end_dim=-1)\n",
       "    (1): Linear(in_features=64, out_features=256, bias=True)\n",
       "    (2): ReLU()\n",
       "    (3): Dropout(p=0.2, inplace=False)\n",
       "    (4): Linear(in_features=256, out_features=128, bias=True)\n",
       "    (5): ReLU()\n",
       "    (6): Linear(in_features=128, out_features=5, bias=True)\n",
       "  )\n",
       ")"
      ]
     },
     "execution_count": 2,
     "metadata": {},
     "output_type": "execute_result"
    }
   ],
   "source": [
    "\n",
    "model = CombinedModel()\n",
    "model.load_state_dict(torch.load('model/data_3/Yaseen_model.pth'))\n",
    "model.to(device)"
   ]
  },
  {
   "cell_type": "code",
   "execution_count": null,
   "id": "e0685eae-bda6-4a30-9b55-384279ec2d91",
   "metadata": {},
   "outputs": [],
   "source": [
    "# 加载数据集\n",
    "import numpy as np\n",
    "test_data = np.load('/home/qziedu/pcg/train_data/data_3/test/Yaseen_test_data.npz')"
   ]
  },
  {
   "cell_type": "code",
   "execution_count": 4,
   "id": "02f35d75-40b0-4cd5-aebb-d5ba7a5bd965",
   "metadata": {},
   "outputs": [
    {
     "name": "stdout",
     "output_type": "stream",
     "text": [
      "torch.Size([696, 1, 256, 256])\n",
      "torch.Size([696])\n"
     ]
    }
   ],
   "source": [
    "test_x = test_data['features']\n",
    "test_y = test_data['labels']\n",
    "test_x = torch.tensor(test_x,dtype=torch.float32)\n",
    "test_y = torch.tensor(test_y,dtype=torch.float32)\n",
    "print(test_x.shape)\n",
    "print(test_y.shape)"
   ]
  },
  {
   "cell_type": "code",
   "execution_count": 5,
   "id": "e67621ee-d9e8-4750-80c5-31b8eab5ffd0",
   "metadata": {},
   "outputs": [
    {
     "name": "stdout",
     "output_type": "stream",
     "text": [
      "0.992816091954023\n",
      "<class 'numpy.ndarray'>\n"
     ]
    }
   ],
   "source": [
    "import torch\n",
    "import torch.nn.functional as F\n",
    "from sklearn.metrics import confusion_matrix\n",
    "import matplotlib.pyplot as plt\n",
    "import seaborn as sns\n",
    "import numpy as np\n",
    "batch_size = 32\n",
    "# 模型推理代码\n",
    "def evaluate_model(model):\n",
    "    model.eval()  # 设置模型为评估模式\n",
    "    predictions = []\n",
    "    true_labels = []\n",
    "    correct_val = 0\n",
    "    total_val = 0\n",
    "    with torch.no_grad():  # 关闭梯度计算\n",
    "        for i in range(0, len(test_x), batch_size):\n",
    "            x_mfcc_batch = test_x[i:i+batch_size].to(device)\n",
    "            y_batch = test_y[i:i+batch_size].to(device)\n",
    "\n",
    "            # 获取预测结果\n",
    "            outputs = model(x_mfcc_batch)\n",
    "            _, predicted = torch.max(outputs, 1)  # 获取每行的最大值作为预测类别\n",
    "            correct_val += (predicted==y_batch).sum().item()\n",
    "            #print( correct_val)\n",
    "            total_val += y_batch.size(0)\n",
    "            \n",
    "            predictions.extend(predicted.cpu().numpy())\n",
    "            true_labels.extend(y_batch.cpu().numpy())\n",
    "        val_accuracy = correct_val / total_val\n",
    "    return np.array(predictions), np.array(true_labels),val_accuracy\n",
    "\n",
    "# 调用evaluate_model函数获取预测值和真实标签\n",
    "predictions, true_labels,val_accuracy = evaluate_model(model)\n",
    "print(val_accuracy)\n",
    "print(type(predictions))\n",
    "\n"
   ]
  },
  {
   "cell_type": "code",
   "execution_count": null,
   "id": "1e9ac4e7-c339-482f-9d79-53be299e5505",
   "metadata": {},
   "outputs": [],
   "source": []
  },
  {
   "cell_type": "code",
   "execution_count": null,
   "id": "30054c9c-b558-4f9d-9c07-65608a336ad2",
   "metadata": {},
   "outputs": [],
   "source": []
  }
 ],
 "metadata": {
  "kernelspec": {
   "display_name": "pcg310",
   "language": "python",
   "name": "pcg310"
  },
  "language_info": {
   "codemirror_mode": {
    "name": "ipython",
    "version": 3
   },
   "file_extension": ".py",
   "mimetype": "text/x-python",
   "name": "python",
   "nbconvert_exporter": "python",
   "pygments_lexer": "ipython3",
   "version": "3.10.8"
  }
 },
 "nbformat": 4,
 "nbformat_minor": 5
}
